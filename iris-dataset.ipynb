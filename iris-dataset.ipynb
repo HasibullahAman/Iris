{
 "cells": [
  {
   "cell_type": "markdown",
   "id": "8c3c6f6f",
   "metadata": {
    "papermill": {
     "duration": 0.01146,
     "end_time": "2023-02-07T04:22:58.805913",
     "exception": false,
     "start_time": "2023-02-07T04:22:58.794453",
     "status": "completed"
    },
    "tags": []
   },
   "source": [
    "# About the DataSet\n",
    "- In this classification project we will be using the length and widths of the flower's sepal and petals to predict which of these three types of iris the flower is. If our model works well, we will be able to apply it to unseen data -- allowing us to predict the type of flower without knowing its true class.\n",
    "- Our goal is to create a Logistic Regression classification model that will predict which class the flower is based on petal and sepal size\n",
    "\n",
    "<center>\n",
    "<img src=\"https://www.gardenia.net/storage/app/public/uploads/images/detail/shutterstock_1099918727Optimized.webp\", width=\"400\",  height=\"300\" />\n",
    "</center>"
   ]
  },
  {
   "cell_type": "markdown",
   "id": "825a6a27",
   "metadata": {
    "papermill": {
     "duration": 0.009567,
     "end_time": "2023-02-07T04:22:58.826254",
     "exception": false,
     "start_time": "2023-02-07T04:22:58.816687",
     "status": "completed"
    },
    "tags": []
   },
   "source": [
    "# Import lybraries"
   ]
  },
  {
   "cell_type": "code",
   "execution_count": 1,
   "id": "e3e463b5",
   "metadata": {
    "_cell_guid": "b1076dfc-b9ad-4769-8c92-a6c4dae69d19",
    "_uuid": "8f2839f25d086af736a60e9eeb907d3b93b6e0e5",
    "execution": {
     "iopub.execute_input": "2023-02-07T04:22:58.847997Z",
     "iopub.status.busy": "2023-02-07T04:22:58.847498Z",
     "iopub.status.idle": "2023-02-07T04:23:03.197902Z",
     "shell.execute_reply": "2023-02-07T04:23:03.196461Z"
    },
    "papermill": {
     "duration": 4.364597,
     "end_time": "2023-02-07T04:23:03.200863",
     "exception": false,
     "start_time": "2023-02-07T04:22:58.836266",
     "status": "completed"
    },
    "tags": []
   },
   "outputs": [
    {
     "name": "stderr",
     "output_type": "stream",
     "text": [
      "/opt/conda/lib/python3.7/site-packages/geopandas/_compat.py:115: UserWarning:\n",
      "\n",
      "The Shapely GEOS version (3.9.1-CAPI-1.14.2) is incompatible with the GEOS version PyGEOS was compiled with (3.10.4-CAPI-1.16.2). Conversions between both will be slow.\n",
      "\n"
     ]
    },
    {
     "data": {
      "text/html": [
       "        <script type=\"text/javascript\">\n",
       "        window.PlotlyConfig = {MathJaxConfig: 'local'};\n",
       "        if (window.MathJax && window.MathJax.Hub && window.MathJax.Hub.Config) {window.MathJax.Hub.Config({SVG: {font: \"STIX-Web\"}});}\n",
       "        if (typeof require !== 'undefined') {\n",
       "        require.undef(\"plotly\");\n",
       "        requirejs.config({\n",
       "            paths: {\n",
       "                'plotly': ['https://cdn.plot.ly/plotly-2.18.0.min']\n",
       "            }\n",
       "        });\n",
       "        require(['plotly'], function(Plotly) {\n",
       "            window._Plotly = Plotly;\n",
       "        });\n",
       "        }\n",
       "        </script>\n",
       "        "
      ]
     },
     "metadata": {},
     "output_type": "display_data"
    }
   ],
   "source": [
    "import numpy as np # linear algebra\n",
    "import pandas as pd # data processing, CSV file I/O (e.g. pd.read_csv)\n",
    "import os\n",
    "for dirname, _, filenames in os.walk('/kaggle/input'):\n",
    "    for filename in filenames:\n",
    "        print(os.path.join(dirname, filename))\n",
    "#for graphs, visuals, etc.\n",
    "import matplotlib.pyplot as plt\n",
    "import plotly.express as px\n",
    "import seaborn as sns\n",
    "# once add\n",
    "import plotly.express as px\n",
    "import cufflinks as cf\n",
    "cf.go_offline()\n",
    "# for Modelling\n",
    "from sklearn.model_selection import train_test_split\n",
    "from sklearn.preprocessing import StandardScaler\n",
    "from sklearn.linear_model import LogisticRegression\n",
    "from sklearn.model_selection import cross_val_score\n",
    "from sklearn.metrics import confusion_matrix\n",
    "from sklearn.metrics import classification_report\n"
   ]
  },
  {
   "cell_type": "markdown",
   "id": "e56dca65",
   "metadata": {
    "papermill": {
     "duration": 0.009646,
     "end_time": "2023-02-07T04:23:03.220799",
     "exception": false,
     "start_time": "2023-02-07T04:23:03.211153",
     "status": "completed"
    },
    "tags": []
   },
   "source": [
    "## Import data\n",
    "- Iris is an internal dataSet in sklearn and we just need to import dataSet"
   ]
  },
  {
   "cell_type": "code",
   "execution_count": 2,
   "id": "044f33e1",
   "metadata": {
    "execution": {
     "iopub.execute_input": "2023-02-07T04:23:03.244976Z",
     "iopub.status.busy": "2023-02-07T04:23:03.244528Z",
     "iopub.status.idle": "2023-02-07T04:23:03.313352Z",
     "shell.execute_reply": "2023-02-07T04:23:03.311747Z"
    },
    "papermill": {
     "duration": 0.084044,
     "end_time": "2023-02-07T04:23:03.316203",
     "exception": false,
     "start_time": "2023-02-07T04:23:03.232159",
     "status": "completed"
    },
    "tags": []
   },
   "outputs": [
    {
     "name": "stdout",
     "output_type": "stream",
     "text": [
      ".. _iris_dataset:\n",
      "\n",
      "Iris plants dataset\n",
      "--------------------\n",
      "\n",
      "**Data Set Characteristics:**\n",
      "\n",
      "    :Number of Instances: 150 (50 in each of three classes)\n",
      "    :Number of Attributes: 4 numeric, predictive attributes and the class\n",
      "    :Attribute Information:\n",
      "        - sepal length in cm\n",
      "        - sepal width in cm\n",
      "        - petal length in cm\n",
      "        - petal width in cm\n",
      "        - class:\n",
      "                - Iris-Setosa\n",
      "                - Iris-Versicolour\n",
      "                - Iris-Virginica\n",
      "                \n",
      "    :Summary Statistics:\n",
      "\n",
      "    ============== ==== ==== ======= ===== ====================\n",
      "                    Min  Max   Mean    SD   Class Correlation\n",
      "    ============== ==== ==== ======= ===== ====================\n",
      "    sepal length:   4.3  7.9   5.84   0.83    0.7826\n",
      "    sepal width:    2.0  4.4   3.05   0.43   -0.4194\n",
      "    petal length:   1.0  6.9   3.76   1.76    0.9490  (high!)\n",
      "    petal width:    0.1  2.5   1.20   0.76    0.9565  (high!)\n",
      "    ============== ==== ==== ======= ===== ====================\n",
      "\n",
      "    :Missing Attribute Values: None\n",
      "    :Class Distribution: 33.3% for each of 3 classes.\n",
      "    :Creator: R.A. Fisher\n",
      "    :Donor: Michael Marshall (MARSHALL%PLU@io.arc.nasa.gov)\n",
      "    :Date: July, 1988\n",
      "\n",
      "The famous Iris database, first used by Sir R.A. Fisher. The dataset is taken\n",
      "from Fisher's paper. Note that it's the same as in R, but not as in the UCI\n",
      "Machine Learning Repository, which has two wrong data points.\n",
      "\n",
      "This is perhaps the best known database to be found in the\n",
      "pattern recognition literature.  Fisher's paper is a classic in the field and\n",
      "is referenced frequently to this day.  (See Duda & Hart, for example.)  The\n",
      "data set contains 3 classes of 50 instances each, where each class refers to a\n",
      "type of iris plant.  One class is linearly separable from the other 2; the\n",
      "latter are NOT linearly separable from each other.\n",
      "\n",
      ".. topic:: References\n",
      "\n",
      "   - Fisher, R.A. \"The use of multiple measurements in taxonomic problems\"\n",
      "     Annual Eugenics, 7, Part II, 179-188 (1936); also in \"Contributions to\n",
      "     Mathematical Statistics\" (John Wiley, NY, 1950).\n",
      "   - Duda, R.O., & Hart, P.E. (1973) Pattern Classification and Scene Analysis.\n",
      "     (Q327.D83) John Wiley & Sons.  ISBN 0-471-22361-1.  See page 218.\n",
      "   - Dasarathy, B.V. (1980) \"Nosing Around the Neighborhood: A New System\n",
      "     Structure and Classification Rule for Recognition in Partially Exposed\n",
      "     Environments\".  IEEE Transactions on Pattern Analysis and Machine\n",
      "     Intelligence, Vol. PAMI-2, No. 1, 67-71.\n",
      "   - Gates, G.W. (1972) \"The Reduced Nearest Neighbor Rule\".  IEEE Transactions\n",
      "     on Information Theory, May 1972, 431-433.\n",
      "   - See also: 1988 MLC Proceedings, 54-64.  Cheeseman et al\"s AUTOCLASS II\n",
      "     conceptual clustering system finds 3 classes in the data.\n",
      "   - Many, many more ...\n"
     ]
    }
   ],
   "source": [
    "from sklearn.datasets import load_iris\n",
    "data = load_iris()\n",
    "# some information from documentation\n",
    "print(data.DESCR)"
   ]
  },
  {
   "cell_type": "code",
   "execution_count": 3,
   "id": "a3f4d53b",
   "metadata": {
    "execution": {
     "iopub.execute_input": "2023-02-07T04:23:03.338677Z",
     "iopub.status.busy": "2023-02-07T04:23:03.338251Z",
     "iopub.status.idle": "2023-02-07T04:23:03.347833Z",
     "shell.execute_reply": "2023-02-07T04:23:03.346554Z"
    },
    "papermill": {
     "duration": 0.0234,
     "end_time": "2023-02-07T04:23:03.350169",
     "exception": false,
     "start_time": "2023-02-07T04:23:03.326769",
     "status": "completed"
    },
    "tags": []
   },
   "outputs": [
    {
     "data": {
      "text/plain": [
       "dict_keys(['data', 'target', 'frame', 'target_names', 'DESCR', 'feature_names', 'filename', 'data_module'])"
      ]
     },
     "execution_count": 3,
     "metadata": {},
     "output_type": "execute_result"
    }
   ],
   "source": [
    "# Dataset Keys\n",
    "data.keys()"
   ]
  },
  {
   "cell_type": "code",
   "execution_count": 4,
   "id": "4eaa7617",
   "metadata": {
    "execution": {
     "iopub.execute_input": "2023-02-07T04:23:03.372660Z",
     "iopub.status.busy": "2023-02-07T04:23:03.372214Z",
     "iopub.status.idle": "2023-02-07T04:23:03.378802Z",
     "shell.execute_reply": "2023-02-07T04:23:03.377624Z"
    },
    "papermill": {
     "duration": 0.020775,
     "end_time": "2023-02-07T04:23:03.381319",
     "exception": false,
     "start_time": "2023-02-07T04:23:03.360544",
     "status": "completed"
    },
    "tags": []
   },
   "outputs": [
    {
     "name": "stdout",
     "output_type": "stream",
     "text": [
      "[[5.1 3.5 1.4 0.2]\n",
      " [4.9 3.  1.4 0.2]\n",
      " [4.7 3.2 1.3 0.2]\n",
      " [4.6 3.1 1.5 0.2]\n",
      " [5.  3.6 1.4 0.2]]\n",
      "['sepal length (cm)', 'sepal width (cm)', 'petal length (cm)', 'petal width (cm)']\n"
     ]
    }
   ],
   "source": [
    "# How data Look!\n",
    "#data initially comes as dictionary with array of lists, split between 'data' and 'target' values\n",
    "print(data.data[:5])\n",
    "print(data.feature_names)"
   ]
  },
  {
   "cell_type": "code",
   "execution_count": 5,
   "id": "e9c660fe",
   "metadata": {
    "execution": {
     "iopub.execute_input": "2023-02-07T04:23:03.403956Z",
     "iopub.status.busy": "2023-02-07T04:23:03.403480Z",
     "iopub.status.idle": "2023-02-07T04:23:03.412533Z",
     "shell.execute_reply": "2023-02-07T04:23:03.411185Z"
    },
    "papermill": {
     "duration": 0.023762,
     "end_time": "2023-02-07T04:23:03.415497",
     "exception": false,
     "start_time": "2023-02-07T04:23:03.391735",
     "status": "completed"
    },
    "tags": []
   },
   "outputs": [
    {
     "name": "stdout",
     "output_type": "stream",
     "text": [
      "[0 0 0 0 0 0 0 0 0 0 0 0 0 0 0 0 0 0 0 0 0 0 0 0 0 0 0 0 0 0 0 0 0 0 0 0 0\n",
      " 0 0 0 0 0 0 0 0 0 0 0 0 0 1 1 1 1 1 1 1 1 1 1 1 1 1 1 1 1 1 1 1 1 1 1 1 1\n",
      " 1 1 1 1 1 1 1 1 1 1 1 1 1 1 1 1 1 1 1 1 1 1 1 1 1 1 2 2 2 2 2 2 2 2 2 2 2\n",
      " 2 2 2 2 2 2 2 2 2 2 2 2 2 2 2 2 2 2 2 2 2 2 2 2 2 2 2 2 2 2 2 2 2 2 2 2 2\n",
      " 2 2]\n",
      "['setosa' 'versicolor' 'virginica']\n"
     ]
    }
   ],
   "source": [
    "# and our target Feature is:\n",
    "print(data.target)\n",
    "print(data.target_names)"
   ]
  },
  {
   "cell_type": "markdown",
   "id": "5c3339b2",
   "metadata": {
    "papermill": {
     "duration": 0.010165,
     "end_time": "2023-02-07T04:23:03.437538",
     "exception": false,
     "start_time": "2023-02-07T04:23:03.427373",
     "status": "completed"
    },
    "tags": []
   },
   "source": [
    "# What is our problem and what should we do?\n",
    "- We have four characteristics of these three types of flowers, and using these characteristics(sepal length,sepal           width,petal length and petal width) for predict which class the Iris belongs to(setosa,Versicolor or virginica).\n",
    "\n",
    "  We use Classification to solve this issue"
   ]
  },
  {
   "cell_type": "markdown",
   "id": "69f82392",
   "metadata": {
    "papermill": {
     "duration": 0.010088,
     "end_time": "2023-02-07T04:23:03.458096",
     "exception": false,
     "start_time": "2023-02-07T04:23:03.448008",
     "status": "completed"
    },
    "tags": []
   },
   "source": [
    "# Create DataFrame\n",
    "- We will create Pandas DataFrame because we can intract whit data simpler."
   ]
  },
  {
   "cell_type": "code",
   "execution_count": 6,
   "id": "48f1485b",
   "metadata": {
    "execution": {
     "iopub.execute_input": "2023-02-07T04:23:03.480734Z",
     "iopub.status.busy": "2023-02-07T04:23:03.480342Z",
     "iopub.status.idle": "2023-02-07T04:23:03.499093Z",
     "shell.execute_reply": "2023-02-07T04:23:03.498228Z"
    },
    "papermill": {
     "duration": 0.032879,
     "end_time": "2023-02-07T04:23:03.501293",
     "exception": false,
     "start_time": "2023-02-07T04:23:03.468414",
     "status": "completed"
    },
    "tags": []
   },
   "outputs": [
    {
     "data": {
      "text/html": [
       "<div>\n",
       "<style scoped>\n",
       "    .dataframe tbody tr th:only-of-type {\n",
       "        vertical-align: middle;\n",
       "    }\n",
       "\n",
       "    .dataframe tbody tr th {\n",
       "        vertical-align: top;\n",
       "    }\n",
       "\n",
       "    .dataframe thead th {\n",
       "        text-align: right;\n",
       "    }\n",
       "</style>\n",
       "<table border=\"1\" class=\"dataframe\">\n",
       "  <thead>\n",
       "    <tr style=\"text-align: right;\">\n",
       "      <th></th>\n",
       "      <th>0</th>\n",
       "      <th>1</th>\n",
       "      <th>2</th>\n",
       "      <th>3</th>\n",
       "    </tr>\n",
       "  </thead>\n",
       "  <tbody>\n",
       "    <tr>\n",
       "      <th>0</th>\n",
       "      <td>5.1</td>\n",
       "      <td>3.5</td>\n",
       "      <td>1.4</td>\n",
       "      <td>0.2</td>\n",
       "    </tr>\n",
       "    <tr>\n",
       "      <th>1</th>\n",
       "      <td>4.9</td>\n",
       "      <td>3.0</td>\n",
       "      <td>1.4</td>\n",
       "      <td>0.2</td>\n",
       "    </tr>\n",
       "    <tr>\n",
       "      <th>2</th>\n",
       "      <td>4.7</td>\n",
       "      <td>3.2</td>\n",
       "      <td>1.3</td>\n",
       "      <td>0.2</td>\n",
       "    </tr>\n",
       "    <tr>\n",
       "      <th>3</th>\n",
       "      <td>4.6</td>\n",
       "      <td>3.1</td>\n",
       "      <td>1.5</td>\n",
       "      <td>0.2</td>\n",
       "    </tr>\n",
       "    <tr>\n",
       "      <th>4</th>\n",
       "      <td>5.0</td>\n",
       "      <td>3.6</td>\n",
       "      <td>1.4</td>\n",
       "      <td>0.2</td>\n",
       "    </tr>\n",
       "  </tbody>\n",
       "</table>\n",
       "</div>"
      ],
      "text/plain": [
       "     0    1    2    3\n",
       "0  5.1  3.5  1.4  0.2\n",
       "1  4.9  3.0  1.4  0.2\n",
       "2  4.7  3.2  1.3  0.2\n",
       "3  4.6  3.1  1.5  0.2\n",
       "4  5.0  3.6  1.4  0.2"
      ]
     },
     "execution_count": 6,
     "metadata": {},
     "output_type": "execute_result"
    }
   ],
   "source": [
    "tod = pd.DataFrame(data.data)\n",
    "tod.head()"
   ]
  },
  {
   "cell_type": "markdown",
   "id": "457cd173",
   "metadata": {
    "papermill": {
     "duration": 0.010426,
     "end_time": "2023-02-07T04:23:03.522358",
     "exception": false,
     "start_time": "2023-02-07T04:23:03.511932",
     "status": "completed"
    },
    "tags": []
   },
   "source": [
    "**The data is not already labeled, so we can reference the sklearn website for further information about the data and features**\n",
    "\n",
    "in the documentation the data features are listed as: \n",
    "1. sepal length in cm\n",
    "2. sepal width in cm\n",
    "3. petal length in cm\n",
    "4. petal width in cm\n",
    "\n",
    "**What do these features refer to?**\n",
    "- Sepal is the green part around the flower petals that enclose the flower when the flower is not in bloom. This is measured by length and width in centimeters as a feature for predicting what type of iris it is. \n",
    "- The length and width of the petals, or the colorful leaves of the flower, are also measured in centimeters."
   ]
  },
  {
   "cell_type": "code",
   "execution_count": 7,
   "id": "76cf9936",
   "metadata": {
    "execution": {
     "iopub.execute_input": "2023-02-07T04:23:03.545562Z",
     "iopub.status.busy": "2023-02-07T04:23:03.545125Z",
     "iopub.status.idle": "2023-02-07T04:23:03.567837Z",
     "shell.execute_reply": "2023-02-07T04:23:03.566592Z"
    },
    "papermill": {
     "duration": 0.037445,
     "end_time": "2023-02-07T04:23:03.570422",
     "exception": false,
     "start_time": "2023-02-07T04:23:03.532977",
     "status": "completed"
    },
    "tags": []
   },
   "outputs": [
    {
     "data": {
      "text/html": [
       "<div>\n",
       "<style scoped>\n",
       "    .dataframe tbody tr th:only-of-type {\n",
       "        vertical-align: middle;\n",
       "    }\n",
       "\n",
       "    .dataframe tbody tr th {\n",
       "        vertical-align: top;\n",
       "    }\n",
       "\n",
       "    .dataframe thead th {\n",
       "        text-align: right;\n",
       "    }\n",
       "</style>\n",
       "<table border=\"1\" class=\"dataframe\">\n",
       "  <thead>\n",
       "    <tr style=\"text-align: right;\">\n",
       "      <th></th>\n",
       "      <th>sepal length</th>\n",
       "      <th>sepal width</th>\n",
       "      <th>petal length</th>\n",
       "      <th>petal width</th>\n",
       "    </tr>\n",
       "  </thead>\n",
       "  <tbody>\n",
       "    <tr>\n",
       "      <th>0</th>\n",
       "      <td>5.1</td>\n",
       "      <td>3.5</td>\n",
       "      <td>1.4</td>\n",
       "      <td>0.2</td>\n",
       "    </tr>\n",
       "    <tr>\n",
       "      <th>1</th>\n",
       "      <td>4.9</td>\n",
       "      <td>3.0</td>\n",
       "      <td>1.4</td>\n",
       "      <td>0.2</td>\n",
       "    </tr>\n",
       "    <tr>\n",
       "      <th>2</th>\n",
       "      <td>4.7</td>\n",
       "      <td>3.2</td>\n",
       "      <td>1.3</td>\n",
       "      <td>0.2</td>\n",
       "    </tr>\n",
       "    <tr>\n",
       "      <th>3</th>\n",
       "      <td>4.6</td>\n",
       "      <td>3.1</td>\n",
       "      <td>1.5</td>\n",
       "      <td>0.2</td>\n",
       "    </tr>\n",
       "    <tr>\n",
       "      <th>4</th>\n",
       "      <td>5.0</td>\n",
       "      <td>3.6</td>\n",
       "      <td>1.4</td>\n",
       "      <td>0.2</td>\n",
       "    </tr>\n",
       "  </tbody>\n",
       "</table>\n",
       "</div>"
      ],
      "text/plain": [
       "   sepal length  sepal width  petal length  petal width\n",
       "0           5.1          3.5           1.4          0.2\n",
       "1           4.9          3.0           1.4          0.2\n",
       "2           4.7          3.2           1.3          0.2\n",
       "3           4.6          3.1           1.5          0.2\n",
       "4           5.0          3.6           1.4          0.2"
      ]
     },
     "execution_count": 7,
     "metadata": {},
     "output_type": "execute_result"
    }
   ],
   "source": [
    "# Lets rename the columns with these features so we know what the variables are referring to when we model the data later.\n",
    "tod.columns = ['sepal length', 'sepal width', 'petal length', 'petal width']\n",
    "#now the data is in a dataframe where we can easily see what each of the numbers is referring to\n",
    "tod.head()"
   ]
  },
  {
   "cell_type": "code",
   "execution_count": 8,
   "id": "a2649002",
   "metadata": {
    "execution": {
     "iopub.execute_input": "2023-02-07T04:23:03.594252Z",
     "iopub.status.busy": "2023-02-07T04:23:03.593794Z",
     "iopub.status.idle": "2023-02-07T04:23:03.612237Z",
     "shell.execute_reply": "2023-02-07T04:23:03.610804Z"
    },
    "papermill": {
     "duration": 0.033327,
     "end_time": "2023-02-07T04:23:03.614732",
     "exception": false,
     "start_time": "2023-02-07T04:23:03.581405",
     "status": "completed"
    },
    "tags": []
   },
   "outputs": [
    {
     "name": "stdout",
     "output_type": "stream",
     "text": [
      "   target\n",
      "0       0\n",
      "1       0\n",
      "2       0\n",
      "3       0\n",
      "4       0\n",
      "all target column have 3 value:  [0 1 2]\n"
     ]
    }
   ],
   "source": [
    "# add target column to DataFrme\n",
    "target = pd.DataFrame(data.target)\n",
    "target = target.rename(columns = {0: 'target'})\n",
    "print(target.head())\n",
    "print('all target column have 3 value: ',target.target.unique())"
   ]
  },
  {
   "cell_type": "markdown",
   "id": "f2058dac",
   "metadata": {
    "papermill": {
     "duration": 0.010669,
     "end_time": "2023-02-07T04:23:03.636351",
     "exception": false,
     "start_time": "2023-02-07T04:23:03.625682",
     "status": "completed"
    },
    "tags": []
   },
   "source": [
    "- **What do these numbers refer to in the target column?**\n",
    "- 0 = Iris Setosa\n",
    "- 1 = Iris Versicolour\n",
    "- 2 = Iris Virginica"
   ]
  },
  {
   "cell_type": "code",
   "execution_count": 9,
   "id": "eb770e5e",
   "metadata": {
    "execution": {
     "iopub.execute_input": "2023-02-07T04:23:03.661589Z",
     "iopub.status.busy": "2023-02-07T04:23:03.661090Z",
     "iopub.status.idle": "2023-02-07T04:23:03.678255Z",
     "shell.execute_reply": "2023-02-07T04:23:03.677317Z"
    },
    "papermill": {
     "duration": 0.032954,
     "end_time": "2023-02-07T04:23:03.680576",
     "exception": false,
     "start_time": "2023-02-07T04:23:03.647622",
     "status": "completed"
    },
    "tags": []
   },
   "outputs": [
    {
     "data": {
      "text/html": [
       "<div>\n",
       "<style scoped>\n",
       "    .dataframe tbody tr th:only-of-type {\n",
       "        vertical-align: middle;\n",
       "    }\n",
       "\n",
       "    .dataframe tbody tr th {\n",
       "        vertical-align: top;\n",
       "    }\n",
       "\n",
       "    .dataframe thead th {\n",
       "        text-align: right;\n",
       "    }\n",
       "</style>\n",
       "<table border=\"1\" class=\"dataframe\">\n",
       "  <thead>\n",
       "    <tr style=\"text-align: right;\">\n",
       "      <th></th>\n",
       "      <th>sepal length</th>\n",
       "      <th>sepal width</th>\n",
       "      <th>petal length</th>\n",
       "      <th>petal width</th>\n",
       "      <th>target</th>\n",
       "    </tr>\n",
       "  </thead>\n",
       "  <tbody>\n",
       "    <tr>\n",
       "      <th>0</th>\n",
       "      <td>5.1</td>\n",
       "      <td>3.5</td>\n",
       "      <td>1.4</td>\n",
       "      <td>0.2</td>\n",
       "      <td>0</td>\n",
       "    </tr>\n",
       "    <tr>\n",
       "      <th>1</th>\n",
       "      <td>4.9</td>\n",
       "      <td>3.0</td>\n",
       "      <td>1.4</td>\n",
       "      <td>0.2</td>\n",
       "      <td>0</td>\n",
       "    </tr>\n",
       "    <tr>\n",
       "      <th>2</th>\n",
       "      <td>4.7</td>\n",
       "      <td>3.2</td>\n",
       "      <td>1.3</td>\n",
       "      <td>0.2</td>\n",
       "      <td>0</td>\n",
       "    </tr>\n",
       "    <tr>\n",
       "      <th>3</th>\n",
       "      <td>4.6</td>\n",
       "      <td>3.1</td>\n",
       "      <td>1.5</td>\n",
       "      <td>0.2</td>\n",
       "      <td>0</td>\n",
       "    </tr>\n",
       "    <tr>\n",
       "      <th>4</th>\n",
       "      <td>5.0</td>\n",
       "      <td>3.6</td>\n",
       "      <td>1.4</td>\n",
       "      <td>0.2</td>\n",
       "      <td>0</td>\n",
       "    </tr>\n",
       "  </tbody>\n",
       "</table>\n",
       "</div>"
      ],
      "text/plain": [
       "   sepal length  sepal width  petal length  petal width  target\n",
       "0           5.1          3.5           1.4          0.2       0\n",
       "1           4.9          3.0           1.4          0.2       0\n",
       "2           4.7          3.2           1.3          0.2       0\n",
       "3           4.6          3.1           1.5          0.2       0\n",
       "4           5.0          3.6           1.4          0.2       0"
      ]
     },
     "execution_count": 9,
     "metadata": {},
     "output_type": "execute_result"
    }
   ],
   "source": [
    "# add target column to DataFrme\n",
    "tod = pd.concat([tod, target], axis = 1)\n",
    "tod.head()\n",
    "# This will allow us to see how the features line up with the class determinations"
   ]
  },
  {
   "cell_type": "markdown",
   "id": "5f75ff2d",
   "metadata": {
    "papermill": {
     "duration": 0.011162,
     "end_time": "2023-02-07T04:23:03.703149",
     "exception": false,
     "start_time": "2023-02-07T04:23:03.691987",
     "status": "completed"
    },
    "tags": []
   },
   "source": [
    "# Statistics description"
   ]
  },
  {
   "cell_type": "code",
   "execution_count": 10,
   "id": "2136634b",
   "metadata": {
    "execution": {
     "iopub.execute_input": "2023-02-07T04:23:03.728628Z",
     "iopub.status.busy": "2023-02-07T04:23:03.728234Z",
     "iopub.status.idle": "2023-02-07T04:23:03.763218Z",
     "shell.execute_reply": "2023-02-07T04:23:03.761614Z"
    },
    "papermill": {
     "duration": 0.051392,
     "end_time": "2023-02-07T04:23:03.765983",
     "exception": false,
     "start_time": "2023-02-07T04:23:03.714591",
     "status": "completed"
    },
    "tags": []
   },
   "outputs": [
    {
     "data": {
      "text/html": [
       "<div>\n",
       "<style scoped>\n",
       "    .dataframe tbody tr th:only-of-type {\n",
       "        vertical-align: middle;\n",
       "    }\n",
       "\n",
       "    .dataframe tbody tr th {\n",
       "        vertical-align: top;\n",
       "    }\n",
       "\n",
       "    .dataframe thead th {\n",
       "        text-align: right;\n",
       "    }\n",
       "</style>\n",
       "<table border=\"1\" class=\"dataframe\">\n",
       "  <thead>\n",
       "    <tr style=\"text-align: right;\">\n",
       "      <th></th>\n",
       "      <th>sepal length</th>\n",
       "      <th>sepal width</th>\n",
       "      <th>petal length</th>\n",
       "      <th>petal width</th>\n",
       "      <th>target</th>\n",
       "    </tr>\n",
       "  </thead>\n",
       "  <tbody>\n",
       "    <tr>\n",
       "      <th>count</th>\n",
       "      <td>150.000000</td>\n",
       "      <td>150.000000</td>\n",
       "      <td>150.000000</td>\n",
       "      <td>150.000000</td>\n",
       "      <td>150.000000</td>\n",
       "    </tr>\n",
       "    <tr>\n",
       "      <th>mean</th>\n",
       "      <td>5.843333</td>\n",
       "      <td>3.057333</td>\n",
       "      <td>3.758000</td>\n",
       "      <td>1.199333</td>\n",
       "      <td>1.000000</td>\n",
       "    </tr>\n",
       "    <tr>\n",
       "      <th>std</th>\n",
       "      <td>0.828066</td>\n",
       "      <td>0.435866</td>\n",
       "      <td>1.765298</td>\n",
       "      <td>0.762238</td>\n",
       "      <td>0.819232</td>\n",
       "    </tr>\n",
       "    <tr>\n",
       "      <th>min</th>\n",
       "      <td>4.300000</td>\n",
       "      <td>2.000000</td>\n",
       "      <td>1.000000</td>\n",
       "      <td>0.100000</td>\n",
       "      <td>0.000000</td>\n",
       "    </tr>\n",
       "    <tr>\n",
       "      <th>25%</th>\n",
       "      <td>5.100000</td>\n",
       "      <td>2.800000</td>\n",
       "      <td>1.600000</td>\n",
       "      <td>0.300000</td>\n",
       "      <td>0.000000</td>\n",
       "    </tr>\n",
       "    <tr>\n",
       "      <th>50%</th>\n",
       "      <td>5.800000</td>\n",
       "      <td>3.000000</td>\n",
       "      <td>4.350000</td>\n",
       "      <td>1.300000</td>\n",
       "      <td>1.000000</td>\n",
       "    </tr>\n",
       "    <tr>\n",
       "      <th>75%</th>\n",
       "      <td>6.400000</td>\n",
       "      <td>3.300000</td>\n",
       "      <td>5.100000</td>\n",
       "      <td>1.800000</td>\n",
       "      <td>2.000000</td>\n",
       "    </tr>\n",
       "    <tr>\n",
       "      <th>max</th>\n",
       "      <td>7.900000</td>\n",
       "      <td>4.400000</td>\n",
       "      <td>6.900000</td>\n",
       "      <td>2.500000</td>\n",
       "      <td>2.000000</td>\n",
       "    </tr>\n",
       "  </tbody>\n",
       "</table>\n",
       "</div>"
      ],
      "text/plain": [
       "       sepal length  sepal width  petal length  petal width      target\n",
       "count    150.000000   150.000000    150.000000   150.000000  150.000000\n",
       "mean       5.843333     3.057333      3.758000     1.199333    1.000000\n",
       "std        0.828066     0.435866      1.765298     0.762238    0.819232\n",
       "min        4.300000     2.000000      1.000000     0.100000    0.000000\n",
       "25%        5.100000     2.800000      1.600000     0.300000    0.000000\n",
       "50%        5.800000     3.000000      4.350000     1.300000    1.000000\n",
       "75%        6.400000     3.300000      5.100000     1.800000    2.000000\n",
       "max        7.900000     4.400000      6.900000     2.500000    2.000000"
      ]
     },
     "execution_count": 10,
     "metadata": {},
     "output_type": "execute_result"
    }
   ],
   "source": [
    "# general statistical overview of the data columns\n",
    "# this is also a good way to check your data for extreme outliers if the min/max seems extremely far from the mean, you can investigate the data further\n",
    "tod.describe()"
   ]
  },
  {
   "cell_type": "markdown",
   "id": "9e4526c9",
   "metadata": {
    "papermill": {
     "duration": 0.011889,
     "end_time": "2023-02-07T04:23:03.789729",
     "exception": false,
     "start_time": "2023-02-07T04:23:03.777840",
     "status": "completed"
    },
    "tags": []
   },
   "source": [
    "# Data Cleaning\n",
    "> It's super important to look through your data, make sure it is clean, and begin to explore relationships between features and target variables. Since this is a relatively simple data set there is not much cleaning that needs to be done. But it is important to still go through these steps everytime. "
   ]
  },
  {
   "cell_type": "code",
   "execution_count": 11,
   "id": "e5076f0d",
   "metadata": {
    "execution": {
     "iopub.execute_input": "2023-02-07T04:23:03.817030Z",
     "iopub.status.busy": "2023-02-07T04:23:03.816222Z",
     "iopub.status.idle": "2023-02-07T04:23:03.826769Z",
     "shell.execute_reply": "2023-02-07T04:23:03.825288Z"
    },
    "papermill": {
     "duration": 0.026861,
     "end_time": "2023-02-07T04:23:03.829815",
     "exception": false,
     "start_time": "2023-02-07T04:23:03.802954",
     "status": "completed"
    },
    "tags": []
   },
   "outputs": [
    {
     "name": "stdout",
     "output_type": "stream",
     "text": [
      "see what type of data you have:\n",
      " sepal length    float64\n",
      "sepal width     float64\n",
      "petal length    float64\n",
      "petal width     float64\n",
      "target            int64\n",
      "dtype: object\n",
      "<---------------------------------------------------->\n",
      "check for missing values:\n",
      " sepal length    0\n",
      "sepal width     0\n",
      "petal length    0\n",
      "petal width     0\n",
      "target          0\n",
      "dtype: int64\n"
     ]
    }
   ],
   "source": [
    "print('see what type of data you have:\\n',tod.dtypes)\n",
    "print('<---------------------------------------------------->')\n",
    "print('check for missing values:\\n',tod.isnull().sum())"
   ]
  },
  {
   "cell_type": "markdown",
   "id": "83dc0ce3",
   "metadata": {
    "papermill": {
     "duration": 0.011625,
     "end_time": "2023-02-07T04:23:03.853187",
     "exception": false,
     "start_time": "2023-02-07T04:23:03.841562",
     "status": "completed"
    },
    "tags": []
   },
   "source": [
    "# Exploratory Data Analysis (EDA)"
   ]
  },
  {
   "cell_type": "code",
   "execution_count": 12,
   "id": "b527a5e3",
   "metadata": {
    "execution": {
     "iopub.execute_input": "2023-02-07T04:23:03.878494Z",
     "iopub.status.busy": "2023-02-07T04:23:03.877716Z",
     "iopub.status.idle": "2023-02-07T04:23:04.267227Z",
     "shell.execute_reply": "2023-02-07T04:23:04.266099Z"
    },
    "papermill": {
     "duration": 0.404922,
     "end_time": "2023-02-07T04:23:04.269742",
     "exception": false,
     "start_time": "2023-02-07T04:23:03.864820",
     "status": "completed"
    },
    "tags": []
   },
   "outputs": [
    {
     "data": {
      "image/png": "[encoded data removed]",
      "text/plain": [
       "<Figure size 720x360 with 2 Axes>"
      ]
     },
     "metadata": {
      "needs_background": "light"
     },
     "output_type": "display_data"
    }
   ],
   "source": [
    "#check correlations by using heatmap\n",
    "plt.rcParams['figure.figsize'] = [10,5]\n",
    "sns.heatmap(tod.corr(), annot = True);"
   ]
  },
  {
   "cell_type": "markdown",
   "id": "5909187b",
   "metadata": {
    "papermill": {
     "duration": 0.011722,
     "end_time": "2023-02-07T04:23:04.294345",
     "exception": false,
     "start_time": "2023-02-07T04:23:04.282623",
     "status": "completed"
    },
    "tags": []
   },
   "source": [
    "**Petal length** and **width** is **most correlated with the target**, meaning that as these numbers increase, so does the target value. In this case, it means that flowers in **class 2** often have **longer petal length and width** than flowers in **class 0**. **Sepal width is most anti-correlated**, indicating that flowers in class 0 have the greatest sepal width than those in class 2. We can also see some intercorrelation between features, for example petal width and length are also highly correlated."
   ]
  },
  {
   "cell_type": "markdown",
   "id": "2b5de6b7",
   "metadata": {
    "papermill": {
     "duration": 0.01173,
     "end_time": "2023-02-07T04:23:04.318081",
     "exception": false,
     "start_time": "2023-02-07T04:23:04.306351",
     "status": "completed"
    },
    "tags": []
   },
   "source": [
    "## Visualize the relationship between sepal length and width"
   ]
  },
  {
   "cell_type": "code",
   "execution_count": 13,
   "id": "2fc7455c",
   "metadata": {
    "execution": {
     "iopub.execute_input": "2023-02-07T04:23:04.343788Z",
     "iopub.status.busy": "2023-02-07T04:23:04.343341Z",
     "iopub.status.idle": "2023-02-07T04:23:04.691242Z",
     "shell.execute_reply": "2023-02-07T04:23:04.689957Z"
    },
    "papermill": {
     "duration": 0.363764,
     "end_time": "2023-02-07T04:23:04.693808",
     "exception": false,
     "start_time": "2023-02-07T04:23:04.330044",
     "status": "completed"
    },
    "tags": []
   },
   "outputs": [
    {
     "data": {
      "image/png": "[encoded data removed]",
      "text/plain": [
       "<Figure size 576x432 with 2 Axes>"
      ]
     },
     "metadata": {
      "needs_background": "light"
     },
     "output_type": "display_data"
    }
   ],
   "source": [
    "# To start looking at the relationships between features, we can create scatter plots\n",
    "# to further visualize the way the different classes of flowers relate to sepal and petal data\n",
    "\n",
    "x_index = 0\n",
    "y_index = 1\n",
    "\n",
    "formatter = plt.FuncFormatter(lambda i, *args:data.target_names[int(i)])\n",
    "plt.figure(figsize=(8,6))\n",
    "plt.scatter(data.data[:, x_index], data.data[:, y_index], c=data.target)\n",
    "plt.colorbar(ticks=[0, 1, 2], format=formatter)\n",
    "plt.xlabel(data.feature_names[x_index])\n",
    "plt.ylabel(data.feature_names[y_index])\n",
    "plt.tight_layout()\n",
    "plt.show()"
   ]
  },
  {
   "cell_type": "markdown",
   "id": "91af1c95",
   "metadata": {
    "papermill": {
     "duration": 0.013038,
     "end_time": "2023-02-07T04:23:04.719884",
     "exception": false,
     "start_time": "2023-02-07T04:23:04.706846",
     "status": "completed"
    },
    "tags": []
   },
   "source": [
    "## Visualize the relationship between petal length and width"
   ]
  },
  {
   "cell_type": "code",
   "execution_count": 14,
   "id": "b3691650",
   "metadata": {
    "execution": {
     "iopub.execute_input": "2023-02-07T04:23:04.748321Z",
     "iopub.status.busy": "2023-02-07T04:23:04.747908Z",
     "iopub.status.idle": "2023-02-07T04:23:05.092806Z",
     "shell.execute_reply": "2023-02-07T04:23:05.091487Z"
    },
    "papermill": {
     "duration": 0.361824,
     "end_time": "2023-02-07T04:23:05.095445",
     "exception": false,
     "start_time": "2023-02-07T04:23:04.733621",
     "status": "completed"
    },
    "tags": []
   },
   "outputs": [
    {
     "data": {
      "image/png": "[encoded data removed]",
      "text/plain": [
       "<Figure size 576x432 with 2 Axes>"
      ]
     },
     "metadata": {
      "needs_background": "light"
     },
     "output_type": "display_data"
    }
   ],
   "source": [
    "# Now let’s create the same scatter plot to compare the petal data points.\n",
    "x_index = 2\n",
    "y_index = 3\n",
    "\n",
    "formatter = plt.FuncFormatter(lambda i, *args:data.target_names[int(i)])\n",
    "plt.figure(figsize=(8,6))\n",
    "plt.scatter(data.data[:, x_index], data.data[:, y_index], c=data.target)\n",
    "plt.colorbar(ticks=[0, 1, 2], format=formatter)\n",
    "plt.xlabel(data.feature_names[x_index])\n",
    "plt.ylabel(data.feature_names[y_index])\n",
    "plt.tight_layout()\n",
    "plt.show()"
   ]
  },
  {
   "cell_type": "markdown",
   "id": "86b722a9",
   "metadata": {
    "papermill": {
     "duration": 0.013176,
     "end_time": "2023-02-07T04:23:05.122823",
     "exception": false,
     "start_time": "2023-02-07T04:23:05.109647",
     "status": "completed"
    },
    "tags": []
   },
   "source": [
    "# Distributions of features"
   ]
  },
  {
   "cell_type": "code",
   "execution_count": 15,
   "id": "f598b93d",
   "metadata": {
    "execution": {
     "iopub.execute_input": "2023-02-07T04:23:05.151672Z",
     "iopub.status.busy": "2023-02-07T04:23:05.151240Z",
     "iopub.status.idle": "2023-02-07T04:23:06.068364Z",
     "shell.execute_reply": "2023-02-07T04:23:06.067216Z"
    },
    "papermill": {
     "duration": 0.93597,
     "end_time": "2023-02-07T04:23:06.072240",
     "exception": false,
     "start_time": "2023-02-07T04:23:05.136270",
     "status": "completed"
    },
    "tags": []
   },
   "outputs": [
    {
     "data": {
      "image/png": "[encoded data removed]",
      "text/plain": [
       "<Figure size 720x360 with 1 Axes>"
      ]
     },
     "metadata": {
      "needs_background": "light"
     },
     "output_type": "display_data"
    },
    {
     "name": "stdout",
     "output_type": "stream",
     "text": [
      "<----------------------------------------------------------------------------------->\n"
     ]
    },
    {
     "data": {
      "image/png": "[encoded data removed]",
      "text/plain": [
       "<Figure size 720x360 with 1 Axes>"
      ]
     },
     "metadata": {
      "needs_background": "light"
     },
     "output_type": "display_data"
    },
    {
     "name": "stdout",
     "output_type": "stream",
     "text": [
      "<----------------------------------------------------------------------------------->\n"
     ]
    },
    {
     "data": {
      "image/png": "[encoded data removed]",
      "text/plain": [
       "<Figure size 720x360 with 1 Axes>"
      ]
     },
     "metadata": {
      "needs_background": "light"
     },
     "output_type": "display_data"
    },
    {
     "name": "stdout",
     "output_type": "stream",
     "text": [
      "<----------------------------------------------------------------------------------->\n"
     ]
    },
    {
     "data": {
      "image/png": "[encoded data removed]",
      "text/plain": [
       "<Figure size 720x360 with 1 Axes>"
      ]
     },
     "metadata": {
      "needs_background": "light"
     },
     "output_type": "display_data"
    },
    {
     "name": "stdout",
     "output_type": "stream",
     "text": [
      "<----------------------------------------------------------------------------------->\n"
     ]
    }
   ],
   "source": [
    "for feat in ['sepal length', 'sepal width', 'petal length', 'petal width']:\n",
    "    tod[feat].hist(ec='aqua',color='#C0C0C0')\n",
    "    plt.suptitle(feat)\n",
    "    plt.show()\n",
    "    print('<----------------------------------------------------------------------------------->')"
   ]
  },
  {
   "cell_type": "markdown",
   "id": "7bf3daae",
   "metadata": {
    "papermill": {
     "duration": 0.014438,
     "end_time": "2023-02-07T04:23:06.102698",
     "exception": false,
     "start_time": "2023-02-07T04:23:06.088260",
     "status": "completed"
    },
    "tags": []
   },
   "source": [
    "# Modelling\n",
    "- Now that we have cleaned and explored the data, we can begin to develop a model. Our goal is to create a Logistic Regression classification model that will predict which class the flower is based on petal and sepal sizes"
   ]
  },
  {
   "cell_type": "markdown",
   "id": "129e302f",
   "metadata": {
    "papermill": {
     "duration": 0.014103,
     "end_time": "2023-02-07T04:23:06.131655",
     "exception": false,
     "start_time": "2023-02-07T04:23:06.117552",
     "status": "completed"
    },
    "tags": []
   },
   "source": [
    "## split the dataframe back into X (data) and y (target)"
   ]
  },
  {
   "cell_type": "code",
   "execution_count": 16,
   "id": "9eaa52c2",
   "metadata": {
    "execution": {
     "iopub.execute_input": "2023-02-07T04:23:06.162496Z",
     "iopub.status.busy": "2023-02-07T04:23:06.161606Z",
     "iopub.status.idle": "2023-02-07T04:23:06.170314Z",
     "shell.execute_reply": "2023-02-07T04:23:06.169152Z"
    },
    "papermill": {
     "duration": 0.027106,
     "end_time": "2023-02-07T04:23:06.173088",
     "exception": false,
     "start_time": "2023-02-07T04:23:06.145982",
     "status": "completed"
    },
    "tags": []
   },
   "outputs": [],
   "source": [
    "# before that split features from target\n",
    "X = tod.copy()\n",
    "y = X.pop('target')\n",
    "# 80% of the data will be the training data, and 20% will be the test data to evaluate our model\n",
    "X_train, X_test, y_train, y_test = train_test_split(X, y, test_size=0.2, random_state=1, stratify = y)\n",
    "# -by stratifying on y we assure that the different classes are represente\n",
    "#  proportionally to the amount in the total data (this makes sure that all of\n",
    "#  class 1 is not in the test group only"
   ]
  },
  {
   "cell_type": "code",
   "execution_count": 17,
   "id": "923b9423",
   "metadata": {
    "execution": {
     "iopub.execute_input": "2023-02-07T04:23:06.204093Z",
     "iopub.status.busy": "2023-02-07T04:23:06.203649Z",
     "iopub.status.idle": "2023-02-07T04:23:06.210971Z",
     "shell.execute_reply": "2023-02-07T04:23:06.209559Z"
    },
    "papermill": {
     "duration": 0.026005,
     "end_time": "2023-02-07T04:23:06.213694",
     "exception": false,
     "start_time": "2023-02-07T04:23:06.187689",
     "status": "completed"
    },
    "tags": []
   },
   "outputs": [
    {
     "name": "stdout",
     "output_type": "stream",
     "text": [
      "How split: \n",
      "\n",
      "X train (120, 4)\n",
      "y train (120,)\n",
      "X test (30, 4)\n",
      "y test (30,)\n"
     ]
    }
   ],
   "source": [
    "# here we can see how the data is split into the different groups\n",
    "print('How split: \\n')\n",
    "print('X train', X_train.shape)\n",
    "print('y train', y_train.shape)\n",
    "print('X test', X_test.shape)\n",
    "print('y test', y_test.shape)"
   ]
  },
  {
   "cell_type": "markdown",
   "id": "98d9cbeb",
   "metadata": {
    "papermill": {
     "duration": 0.014846,
     "end_time": "2023-02-07T04:23:06.243006",
     "exception": false,
     "start_time": "2023-02-07T04:23:06.228160",
     "status": "completed"
    },
    "tags": []
   },
   "source": [
    "## Standardize\n",
    "- With the X values split between training and test, now we can standardize the values. This puts the numbers on a consistent scale while keeping the proportional relationship between them"
   ]
  },
  {
   "cell_type": "code",
   "execution_count": 18,
   "id": "d0d9b1fd",
   "metadata": {
    "execution": {
     "iopub.execute_input": "2023-02-07T04:23:06.274393Z",
     "iopub.status.busy": "2023-02-07T04:23:06.273940Z",
     "iopub.status.idle": "2023-02-07T04:23:06.286741Z",
     "shell.execute_reply": "2023-02-07T04:23:06.285779Z"
    },
    "papermill": {
     "duration": 0.031352,
     "end_time": "2023-02-07T04:23:06.289237",
     "exception": false,
     "start_time": "2023-02-07T04:23:06.257885",
     "status": "completed"
    },
    "tags": []
   },
   "outputs": [],
   "source": [
    "# This puts the X values on a standard scale for all features, while keeping the scale of differences between the values.\n",
    "scaler = StandardScaler()\n",
    "X_train = pd.DataFrame(scaler.fit_transform(X_train), columns=X_train.columns)\n",
    "X_test = pd.DataFrame(scaler.transform(X_test), columns=X_test.columns)"
   ]
  },
  {
   "cell_type": "markdown",
   "id": "255ccc05",
   "metadata": {
    "papermill": {
     "duration": 0.014174,
     "end_time": "2023-02-07T04:23:06.318020",
     "exception": false,
     "start_time": "2023-02-07T04:23:06.303846",
     "status": "completed"
    },
    "tags": []
   },
   "source": [
    "## Baseline Prediction\n",
    "- The baseline is the probability of predicting class before the model is implemented. If the data is split into 2 classes evenly, there is already a 50% chance of randomly assigning an element to the correct class. The goal of our model is to improve on this baseline, or random prediction"
   ]
  },
  {
   "cell_type": "code",
   "execution_count": 19,
   "id": "aa84f87e",
   "metadata": {
    "execution": {
     "iopub.execute_input": "2023-02-07T04:23:06.349105Z",
     "iopub.status.busy": "2023-02-07T04:23:06.348354Z",
     "iopub.status.idle": "2023-02-07T04:23:06.357872Z",
     "shell.execute_reply": "2023-02-07T04:23:06.356106Z"
    },
    "papermill": {
     "duration": 0.028157,
     "end_time": "2023-02-07T04:23:06.360571",
     "exception": false,
     "start_time": "2023-02-07T04:23:06.332414",
     "status": "completed"
    },
    "tags": []
   },
   "outputs": [
    {
     "name": "stdout",
     "output_type": "stream",
     "text": [
      "0    0.333333\n",
      "1    0.333333\n",
      "2    0.333333\n",
      "Name: target, dtype: float64\n",
      "\n",
      " The baseline prediction for this model is 1/3\n"
     ]
    }
   ],
   "source": [
    "print(tod.target.value_counts(normalize= True))\n",
    "print('\\n The baseline prediction for this model is 1/3')"
   ]
  },
  {
   "cell_type": "markdown",
   "id": "091f36d1",
   "metadata": {
    "papermill": {
     "duration": 0.014778,
     "end_time": "2023-02-07T04:23:06.390713",
     "exception": false,
     "start_time": "2023-02-07T04:23:06.375935",
     "status": "completed"
    },
    "tags": []
   },
   "source": [
    "## Logistic Regression Model\n",
    "- Logistic Regression is one of the most straight forward yet effective classification models, allowing binary or multiple class prediction. "
   ]
  },
  {
   "cell_type": "code",
   "execution_count": 20,
   "id": "828c7293",
   "metadata": {
    "execution": {
     "iopub.execute_input": "2023-02-07T04:23:06.423206Z",
     "iopub.status.busy": "2023-02-07T04:23:06.422040Z",
     "iopub.status.idle": "2023-02-07T04:23:06.558918Z",
     "shell.execute_reply": "2023-02-07T04:23:06.557453Z"
    },
    "papermill": {
     "duration": 0.156163,
     "end_time": "2023-02-07T04:23:06.561664",
     "exception": false,
     "start_time": "2023-02-07T04:23:06.405501",
     "status": "completed"
    },
    "tags": []
   },
   "outputs": [
    {
     "name": "stdout",
     "output_type": "stream",
     "text": [
      "accuracy of model:  0.9666666666666667\n",
      "accuracy of model after CVS:  0.9499999999999998\n"
     ]
    }
   ],
   "source": [
    "lg = LogisticRegression()\n",
    "#fit data\n",
    "lg.fit(X_train, y_train)\n",
    "#accuracy of the model\n",
    "print('accuracy of model: ',lg.score(X_test, y_test))\n",
    "# the test score is good, but we can also use cross validated scor to ensure\n",
    "cvs = cross_val_score(lg, X_train, y_train, cv=10)\n",
    "print('accuracy of model after CVS: ',np.mean(cvs))\n",
    "\n",
    "\n",
    "# any adjustments or tuning, this model is already performing very well with\n",
    "# a test score of .9667 and a cross validation score of .9499.\n",
    "# This means that the model is predicting the correct class for the flower about 95% of time."
   ]
  },
  {
   "cell_type": "markdown",
   "id": "6f8e89a2",
   "metadata": {
    "papermill": {
     "duration": 0.014447,
     "end_time": "2023-02-07T04:23:06.591063",
     "exception": false,
     "start_time": "2023-02-07T04:23:06.576616",
     "status": "completed"
    },
    "tags": []
   },
   "source": [
    "## Coefficients\n",
    "- Coefficients are often a bit hard to interpret in Logistic Regression, but we can get an idea of how much of an impact each of the features had in deciding if a flower belonged to that class. For instance, petal length was barely a deciding factor for if a flower was in class 1, but petal width was a strong predictor for class 2"
   ]
  },
  {
   "cell_type": "code",
   "execution_count": 21,
   "id": "a4824a2e",
   "metadata": {
    "execution": {
     "iopub.execute_input": "2023-02-07T04:23:06.623279Z",
     "iopub.status.busy": "2023-02-07T04:23:06.622846Z",
     "iopub.status.idle": "2023-02-07T04:23:06.635100Z",
     "shell.execute_reply": "2023-02-07T04:23:06.633806Z"
    },
    "papermill": {
     "duration": 0.031584,
     "end_time": "2023-02-07T04:23:06.637522",
     "exception": false,
     "start_time": "2023-02-07T04:23:06.605938",
     "status": "completed"
    },
    "tags": []
   },
   "outputs": [
    {
     "data": {
      "text/html": [
       "<div>\n",
       "<style scoped>\n",
       "    .dataframe tbody tr th:only-of-type {\n",
       "        vertical-align: middle;\n",
       "    }\n",
       "\n",
       "    .dataframe tbody tr th {\n",
       "        vertical-align: top;\n",
       "    }\n",
       "\n",
       "    .dataframe thead th {\n",
       "        text-align: right;\n",
       "    }\n",
       "</style>\n",
       "<table border=\"1\" class=\"dataframe\">\n",
       "  <thead>\n",
       "    <tr style=\"text-align: right;\">\n",
       "      <th></th>\n",
       "      <th>sepal length</th>\n",
       "      <th>sepal width</th>\n",
       "      <th>petal length</th>\n",
       "      <th>petal width</th>\n",
       "    </tr>\n",
       "  </thead>\n",
       "  <tbody>\n",
       "    <tr>\n",
       "      <th>0</th>\n",
       "      <td>-1.102746</td>\n",
       "      <td>1.001818</td>\n",
       "      <td>-1.836891</td>\n",
       "      <td>-1.667978</td>\n",
       "    </tr>\n",
       "    <tr>\n",
       "      <th>1</th>\n",
       "      <td>0.402982</td>\n",
       "      <td>-0.323432</td>\n",
       "      <td>-0.277761</td>\n",
       "      <td>-0.650011</td>\n",
       "    </tr>\n",
       "    <tr>\n",
       "      <th>2</th>\n",
       "      <td>0.699764</td>\n",
       "      <td>-0.678386</td>\n",
       "      <td>2.114653</td>\n",
       "      <td>2.317989</td>\n",
       "    </tr>\n",
       "  </tbody>\n",
       "</table>\n",
       "</div>"
      ],
      "text/plain": [
       "   sepal length  sepal width  petal length  petal width\n",
       "0     -1.102746     1.001818     -1.836891    -1.667978\n",
       "1      0.402982    -0.323432     -0.277761    -0.650011\n",
       "2      0.699764    -0.678386      2.114653     2.317989"
      ]
     },
     "execution_count": 21,
     "metadata": {},
     "output_type": "execute_result"
    }
   ],
   "source": [
    "tod_coef = pd.DataFrame(lg.coef_, columns=X_train.columns)\n",
    "tod_coef"
   ]
  },
  {
   "cell_type": "markdown",
   "id": "ed29c0dc",
   "metadata": {
    "papermill": {
     "duration": 0.014626,
     "end_time": "2023-02-07T04:23:06.667081",
     "exception": false,
     "start_time": "2023-02-07T04:23:06.652455",
     "status": "completed"
    },
    "tags": []
   },
   "source": [
    "## Predicted Values\n",
    "- Look at the predictions that the model made for the test data set"
   ]
  },
  {
   "cell_type": "code",
   "execution_count": 22,
   "id": "a510efbc",
   "metadata": {
    "execution": {
     "iopub.execute_input": "2023-02-07T04:23:06.699886Z",
     "iopub.status.busy": "2023-02-07T04:23:06.699101Z",
     "iopub.status.idle": "2023-02-07T04:23:06.711972Z",
     "shell.execute_reply": "2023-02-07T04:23:06.711149Z"
    },
    "papermill": {
     "duration": 0.032033,
     "end_time": "2023-02-07T04:23:06.714151",
     "exception": false,
     "start_time": "2023-02-07T04:23:06.682118",
     "status": "completed"
    },
    "tags": []
   },
   "outputs": [
    {
     "data": {
      "text/html": [
       "<div>\n",
       "<style scoped>\n",
       "    .dataframe tbody tr th:only-of-type {\n",
       "        vertical-align: middle;\n",
       "    }\n",
       "\n",
       "    .dataframe tbody tr th {\n",
       "        vertical-align: top;\n",
       "    }\n",
       "\n",
       "    .dataframe thead th {\n",
       "        text-align: right;\n",
       "    }\n",
       "</style>\n",
       "<table border=\"1\" class=\"dataframe\">\n",
       "  <thead>\n",
       "    <tr style=\"text-align: right;\">\n",
       "      <th></th>\n",
       "      <th>actual</th>\n",
       "      <th>predicted</th>\n",
       "    </tr>\n",
       "  </thead>\n",
       "  <tbody>\n",
       "    <tr>\n",
       "      <th>0</th>\n",
       "      <td>2</td>\n",
       "      <td>2</td>\n",
       "    </tr>\n",
       "    <tr>\n",
       "      <th>1</th>\n",
       "      <td>0</td>\n",
       "      <td>0</td>\n",
       "    </tr>\n",
       "    <tr>\n",
       "      <th>2</th>\n",
       "      <td>1</td>\n",
       "      <td>1</td>\n",
       "    </tr>\n",
       "    <tr>\n",
       "      <th>3</th>\n",
       "      <td>0</td>\n",
       "      <td>0</td>\n",
       "    </tr>\n",
       "    <tr>\n",
       "      <th>4</th>\n",
       "      <td>0</td>\n",
       "      <td>0</td>\n",
       "    </tr>\n",
       "    <tr>\n",
       "      <th>5</th>\n",
       "      <td>0</td>\n",
       "      <td>0</td>\n",
       "    </tr>\n",
       "    <tr>\n",
       "      <th>6</th>\n",
       "      <td>2</td>\n",
       "      <td>2</td>\n",
       "    </tr>\n",
       "    <tr>\n",
       "      <th>7</th>\n",
       "      <td>2</td>\n",
       "      <td>2</td>\n",
       "    </tr>\n",
       "    <tr>\n",
       "      <th>8</th>\n",
       "      <td>2</td>\n",
       "      <td>2</td>\n",
       "    </tr>\n",
       "    <tr>\n",
       "      <th>9</th>\n",
       "      <td>1</td>\n",
       "      <td>1</td>\n",
       "    </tr>\n",
       "  </tbody>\n",
       "</table>\n",
       "</div>"
      ],
      "text/plain": [
       "   actual  predicted\n",
       "0       2          2\n",
       "1       0          0\n",
       "2       1          1\n",
       "3       0          0\n",
       "4       0          0\n",
       "5       0          0\n",
       "6       2          2\n",
       "7       2          2\n",
       "8       2          2\n",
       "9       1          1"
      ]
     },
     "execution_count": 22,
     "metadata": {},
     "output_type": "execute_result"
    }
   ],
   "source": [
    "predict = lg.predict(X_test)\n",
    "# compare test and train data\n",
    "compar = pd.DataFrame({'actual': y_test, 'predicted': predict})\n",
    "compar = compar.reset_index(drop = True)\n",
    "compar[:10]"
   ]
  },
  {
   "cell_type": "markdown",
   "id": "c063ef75",
   "metadata": {
    "papermill": {
     "duration": 0.015176,
     "end_time": "2023-02-07T04:23:06.744449",
     "exception": false,
     "start_time": "2023-02-07T04:23:06.729273",
     "status": "completed"
    },
    "tags": []
   },
   "source": [
    "## Confusion Matrix\n",
    "- In the confusion matrix above the predicted values are the columns and the actual are the rows. It allows us to see where the model makes true and false predictions, and if it predicts incorrectly, we can see which class it is predicting falsely"
   ]
  },
  {
   "cell_type": "code",
   "execution_count": 23,
   "id": "71d95331",
   "metadata": {
    "execution": {
     "iopub.execute_input": "2023-02-07T04:23:06.776742Z",
     "iopub.status.busy": "2023-02-07T04:23:06.775997Z",
     "iopub.status.idle": "2023-02-07T04:23:06.787803Z",
     "shell.execute_reply": "2023-02-07T04:23:06.786902Z"
    },
    "papermill": {
     "duration": 0.030591,
     "end_time": "2023-02-07T04:23:06.790026",
     "exception": false,
     "start_time": "2023-02-07T04:23:06.759435",
     "status": "completed"
    },
    "tags": []
   },
   "outputs": [
    {
     "data": {
      "text/html": [
       "<div>\n",
       "<style scoped>\n",
       "    .dataframe tbody tr th:only-of-type {\n",
       "        vertical-align: middle;\n",
       "    }\n",
       "\n",
       "    .dataframe tbody tr th {\n",
       "        vertical-align: top;\n",
       "    }\n",
       "\n",
       "    .dataframe thead th {\n",
       "        text-align: right;\n",
       "    }\n",
       "</style>\n",
       "<table border=\"1\" class=\"dataframe\">\n",
       "  <thead>\n",
       "    <tr style=\"text-align: right;\">\n",
       "      <th></th>\n",
       "      <th>2</th>\n",
       "      <th>1</th>\n",
       "      <th>0</th>\n",
       "    </tr>\n",
       "  </thead>\n",
       "  <tbody>\n",
       "    <tr>\n",
       "      <th>2</th>\n",
       "      <td>9</td>\n",
       "      <td>1</td>\n",
       "      <td>0</td>\n",
       "    </tr>\n",
       "    <tr>\n",
       "      <th>1</th>\n",
       "      <td>0</td>\n",
       "      <td>10</td>\n",
       "      <td>0</td>\n",
       "    </tr>\n",
       "    <tr>\n",
       "      <th>0</th>\n",
       "      <td>0</td>\n",
       "      <td>0</td>\n",
       "      <td>10</td>\n",
       "    </tr>\n",
       "  </tbody>\n",
       "</table>\n",
       "</div>"
      ],
      "text/plain": [
       "   2   1   0\n",
       "2  9   1   0\n",
       "1  0  10   0\n",
       "0  0   0  10"
      ]
     },
     "execution_count": 23,
     "metadata": {},
     "output_type": "execute_result"
    }
   ],
   "source": [
    "pd.DataFrame(confusion_matrix(y_test, predict, labels=[2, 1, 0]),\n",
    "             index=[2, 1, 0], columns=[2, 1, 0])\n",
    "\n",
    "# We can see that class 0 and 1 were all predicted correctly all 10 times,\n",
    "# but the model incorrectly labeled class 2 as class 1 in one instance."
   ]
  },
  {
   "cell_type": "markdown",
   "id": "02211f06",
   "metadata": {
    "papermill": {
     "duration": 0.015044,
     "end_time": "2023-02-07T04:23:06.820535",
     "exception": false,
     "start_time": "2023-02-07T04:23:06.805491",
     "status": "completed"
    },
    "tags": []
   },
   "source": [
    "## Classification Report\n",
    "*Another good way to check how your model is performing is by looking at the classification report.*\n",
    "- Precision\n",
    "- Recall\n",
    "- F1 Score\n",
    "- Accuracy\n"
   ]
  },
  {
   "cell_type": "code",
   "execution_count": 24,
   "id": "6e290279",
   "metadata": {
    "execution": {
     "iopub.execute_input": "2023-02-07T04:23:06.853493Z",
     "iopub.status.busy": "2023-02-07T04:23:06.852776Z",
     "iopub.status.idle": "2023-02-07T04:23:06.862590Z",
     "shell.execute_reply": "2023-02-07T04:23:06.861293Z"
    },
    "papermill": {
     "duration": 0.029135,
     "end_time": "2023-02-07T04:23:06.865009",
     "exception": false,
     "start_time": "2023-02-07T04:23:06.835874",
     "status": "completed"
    },
    "tags": []
   },
   "outputs": [
    {
     "name": "stdout",
     "output_type": "stream",
     "text": [
      "              precision    recall  f1-score   support\n",
      "\n",
      "           0       1.00      1.00      1.00        10\n",
      "           1       0.91      1.00      0.95        10\n",
      "           2       1.00      0.90      0.95        10\n",
      "\n",
      "    accuracy                           0.97        30\n",
      "   macro avg       0.97      0.97      0.97        30\n",
      "weighted avg       0.97      0.97      0.97        30\n",
      "\n"
     ]
    }
   ],
   "source": [
    "print(classification_report(y_test, predict))"
   ]
  },
  {
   "cell_type": "markdown",
   "id": "573aa36a",
   "metadata": {
    "papermill": {
     "duration": 0.015015,
     "end_time": "2023-02-07T04:23:06.895570",
     "exception": false,
     "start_time": "2023-02-07T04:23:06.880555",
     "status": "completed"
    },
    "tags": []
   },
   "source": [
    "<center>\n",
    "<span style=\"font-family:Comic Sans MS; color:navy\"><h2>Thank You😊</h2></span>\n",
    "</center>"
   ]
  }
 ],
 "metadata": {
  "kernelspec": {
   "display_name": "Python 3",
   "language": "python",
   "name": "python3"
  },
  "language_info": {
   "codemirror_mode": {
    "name": "ipython",
    "version": 3
   },
   "file_extension": ".py",
   "mimetype": "text/x-python",
   "name": "python",
   "nbconvert_exporter": "python",
   "pygments_lexer": "ipython3",
   "version": "3.11.1"
  },
  "papermill": {
   "default_parameters": {},
   "duration": 18.444378,
   "end_time": "2023-02-07T04:23:07.935567",
   "environment_variables": {},
   "exception": null,
   "input_path": "__notebook__.ipynb",
   "output_path": "__notebook__.ipynb",
   "parameters": {},
   "start_time": "2023-02-07T04:22:49.491189",
   "version": "2.3.4"
  },
  "vscode": {
   "interpreter": {
    "hash": "82c233c42726c17215e7e7ae6ac14d56c9a22504955dbb3ac243eb1229ab4a21"
   }
  }
 },
 "nbformat": 4,
 "nbformat_minor": 5
}
